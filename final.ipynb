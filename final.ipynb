{
 "cells": [
  {
   "cell_type": "markdown",
   "metadata": {},
   "source": [
    "<h1><center>Analysis of Covid and related policy data in the United States</center></h1>\n",
    "<h3><center>Shangyu Lai</center></h3>\n",
    "\n",
    "## 1 introduction\n",
    "It is the end of 2021, but unfortunately the pandemic of COVID-19 has not yet ended. Even worse, the virus is still mutating and spreading. Especially, the Omicron mutaion is discovered and the virus could spread faster than ever. The vaccine is not that effective for the Omicron mutation. In this situation, personal effort is not enough to prevent the virus from spreading. Impact of governments is strongly needed to control the pandemic. In this tutorial, I will analyze the data of the government policies and the data of the COVID-19. I will try to answer the following questions:\n",
    "1. How to define strigency of the policies?\n",
    "2. How the strigenties of the policies are related to the COVID-19?\n",
    "3. How to visualize the data to show the relationship between the policies and the COVID-19?\n",
    "\n",
    "## 2 Data collection and description\n",
    "I collect all the data from the following github reposities or links. All the data I used was updated in Dec 11th, 2021. \n",
    "\n",
    "#### 2.1 Vaccinations data:\n",
    "Vaccinations data is from the CDC, <a href=\"https://data.cdc.gov/Vaccinations/COVID-19-Vaccinations-in-the-United-States-County/8xkx-amqh\">COVID-19 Vaccinations in the United States,County</a>. From this dataset we can know the number of people from each county who have been vaccinated for the COVID-19. The data includes vaccination date, recipents state and county, and number of people who have been fully vaccinated, etc.. The format of date is MM/DD/YYYY.\n",
    "\n",
    "#### 2.2 Policy and covid data: \n",
    "Policy data is from <a href=\"https://github.com/OxCGRT/covid-policy-tracker\">covid-policy-tracker</a>. Some basic information about COVID-19 like total cases and deaths are embeded in this dataset (Covid data is from <a href=\"https://github.com/CSSEGISandData/COVID-19\">COVID-19 Data Repository by the Center for Systems Science and Engineering (CSSE) at Johns Hopkins UniversityJohns Hopkins University Center for Systems Science and Engineering (JHU CSSE) </a>). In this dataset it defines strigency $SI=\\frac{1}{9}(\\sum\\limits_{j=1}^{8}{Cj}+H1)$. From $C1$ to $C8$, the meaning of each number is as follows: \n",
    "\n",
    "| ID | Description |\n",
    "| --- | --- |\n",
    "|<p><center> $C1$</p> | Record closings of schools and universitiesTotal cases |\n",
    "|<p><center> $C2$</p> | Record closings of workplaces |\n",
    "|<p><center> $C3$</p> | Record cancelling public events |\n",
    "|<p><center> $C4$</p> | Record limits on gatherings |\n",
    "|<p><center> $C5$</p> | Record closing of public transport |\n",
    "|<p><center> $C6$</p> | Record orders to \"shelter-in-place\" and otherwise confine to the home |\n",
    "|<p><center> $C7$</p> | Record restrictions on internal movement between cities/regions |\n",
    "|<p><center> $C8$</p> | Record restrictions on international travel |\n",
    "|<p><center> $H1$</p> | Record restrictions on gatherings |\n",
    "\n",
    "For more details about the data, please refer to the <a href=\"https://github.com/OxCGRT/covid-policy-tracker/blob/master/documentation/codebook.md\">codebook</a>.\n",
    "\n",
    "#### 2.3 timeline: \n",
    "I get information about the timeline from <a href=\"https://www.cdc.gov/museum/timeline/covid19.html\">CDC</a>. The timeline is from Dec 12, 2019 to Apr 23, 2021.\n",
    "By this data, I can roughly know what happened during the pandemic. It may provide some useful information to understand how Covid and policies are impacted by each other.\n"
   ]
  },
  {
   "cell_type": "code",
   "execution_count": 1,
   "metadata": {},
   "outputs": [],
   "source": [
    "import pandas as pd\n",
    "import numpy as np\n",
    "import contextily as cx\n",
    "import requests\n",
    "from bs4 import BeautifulSoup as bs\n",
    "from matplotlib import pyplot as plt\n",
    "import pandas_alive\n",
    "import geopandas\n",
    "import warnings\n",
    "warnings.filterwarnings('ignore')\n",
    "# read data\n",
    "vaccine_data = pd.read_csv('covid/COVID-19_Vaccinations_in_the_United_States_County.csv')\n",
    "vaccine_data = vaccine_data[['Date','Recip_State','Series_Complete_Yes']]\n",
    "\n",
    "covid_data_US = pd.read_csv('covid/COVID-19/csse_covid_19_data/csse_covid_19_time_series/time_series_covid19_confirmed_US.csv')\n",
    "covid_data_US_deaths = pd.read_csv('covid/COVID-19/csse_covid_19_data/csse_covid_19_time_series/time_series_covid19_deaths_US.csv')\n",
    "covid_data_US = covid_data_US.drop(columns=['UID', 'iso2', 'iso3', 'code3', 'FIPS', 'Admin2'])\n",
    "covid_data_US_deaths = covid_data_US_deaths.drop(columns=['UID', 'iso2', 'iso3', 'code3', 'FIPS', 'Admin2'])\n",
    "\n",
    "covid_data_Global = pd.read_csv('covid/COVID-19/csse_covid_19_data/csse_covid_19_time_series/time_series_covid19_confirmed_global.csv')\n",
    "covid_data_Global_deaths = pd.read_csv('covid/COVID-19/csse_covid_19_data/csse_covid_19_time_series/time_series_covid19_deaths_global.csv')\n",
    "covid_data_Global_recovered = pd.read_csv('covid/COVID-19/csse_covid_19_data/csse_covid_19_time_series/time_series_covid19_recovered_global.csv')\n",
    "\n",
    "policy_data_2020 = pd.read_csv('covid/covid-policy-tracker/data/OxCGRT_withnotes_2020.csv',low_memory=False)\n",
    "policy_data_2021 = pd.read_csv('covid/covid-policy-tracker/data/OxCGRT_withnotes_2021.csv',low_memory=False)\n",
    "policy_data = policy_data_2020.append(policy_data_2021)\n",
    "policy_data = policy_data.drop(columns=['M1_Wildcard'])\n",
    "del policy_data_2020, policy_data_2021\n",
    "\n",
    "# timeline data\n",
    "r = requests.get('https://www.cdc.gov/museum/timeline/covid19.html')\n",
    "timeline = bs(r.content, 'html.parser').find_all('div', class_='card-body')"
   ]
  },
  {
   "cell_type": "markdown",
   "metadata": {},
   "source": [
    "## 3 Data Processing\n",
    "For the first step, I want to visualize the data to show the relationship between the policies and the COVID-19. Then we can get a rough answer for the following questions:\n",
    "\n",
    "1. How Covid-19 progress in the US?\n",
    "2. How strigency changes with time?\n",
    "3. Any relationship between the policies and the spread of Covid-19?\n",
    "4. Any relationship between the policies and the death rate?\n",
    "5. Any relationship between the policies and the number of cases?\n",
    "6. Any relationship between the policies and the number of vaccinations?\n",
    "\n",
    "I want to merge the vaccination data with the polycy data so that I only need to process one dataframe. I will use the following steps to do this:\n",
    "* Filtering the policy data to get the data of the US.\n",
    "* Using RegionCode column in the policy data to represent states in the US. Since we also need to the whole US data, I fill the NaN values in the RegionCode column with 'US', which represents the summary of all the states.\n",
    "* In the vaccine data it only has county level data, I need to sum the data of each county in the same state and then sum the data of each state to get the data of the whole US.\n",
    "* Changing date in to datetime format.\n",
    "* Setting the index to date."
   ]
  },
  {
   "cell_type": "code",
   "execution_count": 2,
   "metadata": {},
   "outputs": [],
   "source": [
    "policy_data_US_states = policy_data[policy_data['CountryCode'] == 'USA']\n",
    "# policy_data_US_states = policy_data_US_states[policy_data_US_states['RegionCode'].notna()]\n",
    "policy_data_US_states = policy_data_US_states.drop(columns=['CountryCode','CountryName','Jurisdiction'])\n",
    "policy_data_US_states['RegionCode'].fillna('US_US',inplace=True)\n",
    "policy_data_US_states['RegionCode'] = policy_data_US_states['RegionCode'].str[3:]\n",
    "policy_data_US_states = policy_data_US_states[policy_data_US_states.notna()]\n",
    "policy_data_US_states['Date'] = pd.to_datetime(policy_data_US_states['Date'],format='%Y%m%d')\n",
    "# vaccine_data['Date'] = pd.to_datetime(vaccine_data['Date'])\n",
    "vaccine_data = vaccine_data.rename(columns={'Recip_State':'State'})\n",
    "vaccine_data['Date'] = pd.to_datetime(vaccine_data['Date'])\n",
    "vaccine_sum = vaccine_data.groupby(['State','Date'],as_index=False).agg({'Series_Complete_Yes':'sum'})\n",
    "US_sum = vaccine_sum.groupby(['Date'],as_index=False).agg({'Series_Complete_Yes':'sum'})\n",
    "US_sum['State'] = 'US'\n",
    "vaccine_sum = vaccine_sum.append(US_sum)\n",
    "policy_data_US_states = policy_data_US_states.rename(columns={'RegionCode':'State'})\n",
    "US_data = pd.merge(vaccine_sum,policy_data_US_states, on=['Date','State'],how='outer')\n",
    "US_data['Series_Complete_Yes'] = US_data['Series_Complete_Yes'].fillna(0)\n",
    "US_data.set_index('Date',inplace=True)\n",
    "# US_data = US_data[US_data['Series_Complete_Yes'].notna()]\n",
    "data_us_states = {}\n",
    "data_contries = {}\n",
    "for state, df in US_data.groupby('State'):\n",
    "    data_us_states[state] = df\n",
    "del US_sum, vaccine_sum, policy_data_US_states"
   ]
  },
  {
   "cell_type": "markdown",
   "metadata": {},
   "source": [
    "After some basic data processing, I can plot the data the know the rough situation of the pandemic in the US. I plot four line charts to show the number of confirmed cases, confirmed deaths, the number of vaccinations, and the stringency of the policies."
   ]
  },
  {
   "cell_type": "code",
   "execution_count": 17,
   "metadata": {},
   "outputs": [
    {
     "data": {
      "image/png": "[encoded data removed]",
      "text/plain": [
       "<Figure size 1440x864 with 4 Axes>"
      ]
     },
     "metadata": {
      "needs_background": "light"
     },
     "output_type": "display_data"
    }
   ],
   "source": [
    "data_us_states['US'].plot(subplots=True,y=['ConfirmedCases','ConfirmedDeaths','Series_Complete_Yes','StringencyIndex'],\n",
    "    title='US Cases, Deaths, Completed vaccinations, stringency of policy', figsize=(20,12))\n",
    "buffer = data_us_states['US']"
   ]
  },
  {
   "cell_type": "markdown",
   "metadata": {},
   "source": [
    "After ploting out the four values, I can see some important time series that the policies are chaning. The first one is between March and April, 2020. We can see that the stringency is suddently increasing. The second one is between July and November. Although the number of cases and deaths was steadily increasing, the strigency of policies was decreasing. As a result, it was a incredible increase around December 2020. The third one is between February and July 2021. As the number of vaccinations increasing, the cases and deaths grew slower and the stringency of policies was decreasing. The fourth one is around December 2021. There is a increasing trend of the cases and stringency of policies.\n",
    "\n",
    "Then, I want to take a closer look at the data to see what is the more exact date of the change. What is the related information in the timeline at those periods. I plot the four lines animation to show the change of date directly."
   ]
  },
  {
   "cell_type": "code",
   "execution_count": 18,
   "metadata": {},
   "outputs": [
    {
     "name": "stdout",
     "output_type": "stream",
     "text": [
      "Generating LineChart, plotting ['ConfirmedCases']\n",
      "Generating LineChart, plotting ['ConfirmedDeaths']\n",
      "Generating LineChart, plotting ['Series_Complete_Yes']\n",
      "Generating LineChart, plotting ['StringencyIndex']\n"
     ]
    }
   ],
   "source": [
    "from IPython.display import HTML\n",
    "buffer = buffer[['ConfirmedCases','ConfirmedDeaths','Series_Complete_Yes','StringencyIndex']]\n",
    "buffer.dropna(inplace=True)\n",
    "buffer.sort_index(inplace=True)\n",
    "plots = []\n",
    "for i in buffer:\n",
    "    plots.append(buffer[i].plot_animated(kind='line',steps_per_period=1,period_length=10,period_fmt='%Y-%m-%d',fixed_max=True))\n",
    "figs = plt.Figure()\n",
    "figs.set_dpi(144)\n",
    "gs = figs.add_gridspec(len(plots),1,hspace=0.5)\n",
    "f1_ax = []\n",
    "for i in range(len(plots)):\n",
    "    f1_ax.append(figs.add_subplot(gs[i,0]))\n",
    "    plots[i].ax = f1_ax[i]\n",
    "pandas_alive.animate_multiple_plots(filename='US_line.mp4',plots=plots, custom_fig=figs, enable_progress_bar=True)"
   ]
  },
  {
   "cell_type": "code",
   "execution_count": 19,
   "metadata": {},
   "outputs": [
    {
     "data": {
      "text/html": [
       "<video src=\"US_line.mp4\" controls  >\n",
       "      Your browser does not support the <code>video</code> element.\n",
       "    </video>"
      ],
      "text/plain": [
       "<IPython.core.display.Video object>"
      ]
     },
     "execution_count": 19,
     "metadata": {},
     "output_type": "execute_result"
    }
   ],
   "source": [
    "from IPython.display import Video\n",
    "Video(\"US_line.mp4\")"
   ]
  },
  {
   "cell_type": "markdown",
   "metadata": {},
   "source": [
    "Through the animation, I can the the first important date is around March 10. Looking it up in the timeline data, we can see on March 10 WHO announced that COVID-10 a pandemic. On March 13 \"President Donald J. Trump declares a nationwide emergency\". On March 15 US states started shuting down. As a result, the stringency increased rapidly."
   ]
  },
  {
   "cell_type": "markdown",
   "metadata": {},
   "source": [
    "try ploting all the data in the US animatively. We needs several dataFrames, which have states as columns and date as index. Each dataFrame represents an element I want to plot(ConfirmedCases, ConfirmedDeaths etc.)."
   ]
  },
  {
   "cell_type": "code",
   "execution_count": 20,
   "metadata": {},
   "outputs": [
    {
     "name": "stdout",
     "output_type": "stream",
     "text": [
      "Generating BarChartRace, plotting ['AK', 'AL', 'AR', 'AS', 'AZ', 'CA', 'CO', 'CT', 'DC', 'DE', 'FL', 'FM', 'GA', 'GU', 'HI', 'IA', 'ID', 'IL', 'IN', 'KS', 'KY', 'LA', 'MA', 'MD', 'ME', 'MH', 'MI', 'MN', 'MO', 'MP', 'MS', 'MT', 'NC', 'ND', 'NE', 'NH', 'NJ', 'NM', 'NV', 'NY', 'OH', 'OK', 'OR', 'PA', 'PR', 'PW', 'RI', 'SC', 'SD', 'TN', 'TX', 'UNK', 'UT', 'VA', 'VI', 'VT', 'WA', 'WI', 'WV', 'WY']\n",
      "Generating BarChartRace, plotting ['AK', 'AL', 'AR', 'AS', 'AZ', 'CA', 'CO', 'CT', 'DC', 'DE', 'FL', 'FM', 'GA', 'GU', 'HI', 'IA', 'ID', 'IL', 'IN', 'KS', 'KY', 'LA', 'MA', 'MD', 'ME', 'MH', 'MI', 'MN', 'MO', 'MP', 'MS', 'MT', 'NC', 'ND', 'NE', 'NH', 'NJ', 'NM', 'NV', 'NY', 'OH', 'OK', 'OR', 'PA', 'PR', 'PW', 'RI', 'SC', 'SD', 'TN', 'TX', 'UNK', 'UT', 'VA', 'VI', 'VT', 'WA', 'WI', 'WV', 'WY']\n",
      "Generating BarChartRace, plotting ['AK', 'AL', 'AR', 'AS', 'AZ', 'CA', 'CO', 'CT', 'DC', 'DE', 'FL', 'FM', 'GA', 'GU', 'HI', 'IA', 'ID', 'IL', 'IN', 'KS', 'KY', 'LA', 'MA', 'MD', 'ME', 'MH', 'MI', 'MN', 'MO', 'MP', 'MS', 'MT', 'NC', 'ND', 'NE', 'NH', 'NJ', 'NM', 'NV', 'NY', 'OH', 'OK', 'OR', 'PA', 'PR', 'PW', 'RI', 'SC', 'SD', 'TN', 'TX', 'UNK', 'UT', 'VA', 'VI', 'VT', 'WA', 'WI', 'WV', 'WY']\n",
      "Generating BarChartRace, plotting ['AK', 'AL', 'AR', 'AS', 'AZ', 'CA', 'CO', 'CT', 'DC', 'DE', 'FL', 'FM', 'GA', 'GU', 'HI', 'IA', 'ID', 'IL', 'IN', 'KS', 'KY', 'LA', 'MA', 'MD', 'ME', 'MH', 'MI', 'MN', 'MO', 'MP', 'MS', 'MT', 'NC', 'ND', 'NE', 'NH', 'NJ', 'NM', 'NV', 'NY', 'OH', 'OK', 'OR', 'PA', 'PR', 'PW', 'RI', 'SC', 'SD', 'TN', 'TX', 'UNK', 'UT', 'VA', 'VI', 'VT', 'WA', 'WI', 'WV', 'WY']\n"
     ]
    }
   ],
   "source": [
    "Series_df = pd.DataFrame(index=buffer.index)\n",
    "US_Cases_df = pd.DataFrame(index=buffer.index)\n",
    "US_Deaths_df = pd.DataFrame(index=buffer.index)\n",
    "US_Stringency_df = pd.DataFrame(index=buffer.index)\n",
    "for state, df in US_data[['State','ConfirmedCases','ConfirmedDeaths','Series_Complete_Yes','StringencyIndex']].groupby('State'):\n",
    "    df.sort_index(inplace=True)\n",
    "    if state != 'US':\n",
    "        df.fillna(0,inplace=True)\n",
    "        Series_df[state] = df['Series_Complete_Yes']\n",
    "        US_Cases_df[state] = df['ConfirmedCases']\n",
    "        US_Deaths_df[state] = df['ConfirmedDeaths']\n",
    "        US_Stringency_df[state] = df['StringencyIndex']\n",
    "\n",
    "series_chart = Series_df.plot_animated(steps_per_period=1,period_length=15,period_fmt='%Y-%m-%d',dpi=144,n_visible=25,figsize=(15,7.5),orientation='v',writer='ffmpeg',bar_label_size=5)\n",
    "cases_chart = US_Cases_df.plot_animated(steps_per_period=1,period_length=15,period_fmt='%Y-%m-%d',dpi=300,n_visible=25,figsize=(20,10),orientation='v',writer='ffmpeg',bar_label_size=5)\n",
    "deaths_chart = US_Deaths_df.plot_animated(steps_per_period=1,period_length=15,period_fmt='%Y-%m-%d',dpi=144,n_visible=25,figsize=(15,7.5),orientation='v',writer='ffmpeg',bar_label_size=5)\n",
    "strigency_chart = US_Stringency_df.plot_animated(steps_per_period=1,period_length=15,period_fmt='%Y-%m-%d',dpi=144,figsize=(15,7.5),n_visible=30,orientation='v',bar_label_size=5)"
   ]
  },
  {
   "cell_type": "code",
   "execution_count": 21,
   "metadata": {},
   "outputs": [],
   "source": [
    "minx, miny, maxx, maxy = -2e7, 0, -.5e7, 1.2e7\n",
    "states_map = geopandas.read_file('cb_2018_us_state_500k.shp')\n",
    "# states_map = geopandas.read_file('tl_2017_us_state.shp')\n",
    "states_map = states_map.to_crs(epsg=3081)\n",
    "# remove GU MP NV AS HI\n",
    "states_map = states_map[states_map.STUSPS != 'GU']\n",
    "states_map = states_map[states_map.STUSPS != 'MP']\n",
    "states_map = states_map[states_map.STUSPS != 'NV']\n",
    "states_map = states_map[states_map.STUSPS != 'AS']\n",
    "states_map = states_map[states_map.STUSPS != 'HI']\n",
    "states_map.set_index('STUSPS',inplace=True)"
   ]
  },
  {
   "cell_type": "code",
   "execution_count": 22,
   "metadata": {},
   "outputs": [],
   "source": [
    "US_cases_gdf = US_Cases_df.T\n",
    "US_Deaths_gdf = US_Deaths_df.T\n",
    "US_Stringency_gdf = US_Stringency_df.T\n",
    "US_series_gdf = Series_df.T\n",
    "dict = states_map['geometry'].to_dict()\n",
    "US_cases_gdf['geometry'] = US_cases_gdf.index.map(dict)\n",
    "US_Deaths_gdf['geometry'] = US_Deaths_gdf.index.map(dict)\n",
    "US_Stringency_gdf['geometry'] = US_Stringency_gdf.index.map(dict)\n",
    "US_series_gdf['geometry'] = US_series_gdf.index.map(dict)\n",
    "US_cases_gdf = US_cases_gdf[US_cases_gdf['geometry'].notna()]\n",
    "US_Deaths_gdf = US_Deaths_gdf[US_Deaths_gdf['geometry'].notna()]\n",
    "US_Stringency_gdf = US_Stringency_gdf[US_Stringency_gdf['geometry'].notna()]\n",
    "US_series_gdf = US_series_gdf[US_series_gdf['geometry'].notna()]\n",
    "US_cases_gdf = geopandas.GeoDataFrame(US_cases_gdf,crs=states_map.crs,geometry=US_cases_gdf['geometry'])\n",
    "US_Deaths_gdf = geopandas.GeoDataFrame(US_Deaths_gdf,crs=states_map.crs,geometry=US_Deaths_gdf['geometry'])\n",
    "US_Stringency_gdf = geopandas.GeoDataFrame(US_Stringency_gdf,crs=states_map.crs,geometry=US_Stringency_gdf['geometry'])\n",
    "US_series_gdf = geopandas.GeoDataFrame(US_series_gdf,crs=states_map.crs,geometry=US_series_gdf['geometry'])\n",
    "US_cases_gdf.sort_index(inplace=True)\n",
    "US_Deaths_gdf.sort_index(inplace=True)\n",
    "US_Stringency_gdf.sort_index(inplace=True)\n",
    "US_series_gdf.sort_index(inplace=True)\n",
    "geo_stri = US_Stringency_gdf.plot_animated(steps_per_period=1,period_length=15,period_fmt='%Y-%m-%d',dpi=144,cmap='Oranges', fixed_max=False,title='strigency',figsize=(20,12),writer='ffmpeg')\n",
    "figs = plt.Figure()\n",
    "figs.set_dpi(200)\n",
    "figs.set_size_inches(10,5.625)\n",
    "gs = figs.add_gridspec(2,2)\n",
    "f2_ax1 = figs.add_subplot(gs[0,0])\n",
    "cases_chart.ax = f2_ax1\n",
    "cases_chart.ax.set_title('Confirmed Cases')\n",
    "f2_ax2 = figs.add_subplot(gs[0,1])\n",
    "deaths_chart.ax = f2_ax2\n",
    "deaths_chart.ax.set_title('Confirmed Deaths')\n",
    "f2_ax3 = figs.add_subplot(gs[1,0])\n",
    "series_chart.ax = f2_ax3\n",
    "series_chart.ax.set_title('Series Complete')\n",
    "f2_ax4 = figs.add_subplot(gs[1,1])\n",
    "f2_ax4.set_title('strigency')\n",
    "geo_stri.ax = f2_ax4\n",
    "plots = [cases_chart,deaths_chart,series_chart,geo_stri]\n",
    "# pandas_alive.animate_multiple_plots(filename='All_states_bar.mp4',plots=plots, custom_fig=figs,adjust_subplot_hspace=.1,adjust_subplot_wspace=.1)"
   ]
  },
  {
   "cell_type": "code",
   "execution_count": 23,
   "metadata": {},
   "outputs": [
    {
     "data": {
      "text/html": [
       "<video src=\"All_states_bar.mp4\" controls  >\n",
       "      Your browser does not support the <code>video</code> element.\n",
       "    </video>"
      ],
      "text/plain": [
       "<IPython.core.display.Video object>"
      ]
     },
     "execution_count": 23,
     "metadata": {},
     "output_type": "execute_result"
    }
   ],
   "source": [
    "Video('All_states_bar.mp4')"
   ]
  },
  {
   "cell_type": "code",
   "execution_count": 24,
   "metadata": {},
   "outputs": [],
   "source": [
    "# US_cases_gdf.plot_animated(filename='geoCases.mp4',steps_per_period=1,period_length=10,period_fmt='%Y-%m-%d',cmap=\"Reds\",dpi=144, fixed_max=True)\n",
    "# US_Deaths_gdf.plot_animated(filename='geoDeaths.mp4',steps_per_period=1,period_length=10,period_fmt='%Y-%m-%d',cmap=\"Reds\",dpi=144, fixed_max=True)\n",
    "# US_Stringency_gdf.plot_animated(filename='geoStringency.mp4',steps_per_period=1,period_length=10,period_fmt='%Y-%m-%d',cmap=\"Reds\",dpi=144, fixed_max=True)\n",
    "# US_series_gdf.plot_animated(filename='geoSeries.mp4',steps_per_period=1,period_length=10,period_fmt='%Y-%m-%d',cmap=\"Reds\",dpi=144, fixed_max=True)\n"
   ]
  },
  {
   "cell_type": "code",
   "execution_count": 25,
   "metadata": {},
   "outputs": [
    {
     "data": {
      "text/html": [
       "<video src=\"geoCases.mp4\" controls  >\n",
       "      Your browser does not support the <code>video</code> element.\n",
       "    </video>"
      ],
      "text/plain": [
       "<IPython.core.display.Video object>"
      ]
     },
     "execution_count": 25,
     "metadata": {},
     "output_type": "execute_result"
    }
   ],
   "source": [
    "Video('geoCases.mp4')"
   ]
  },
  {
   "cell_type": "code",
   "execution_count": 26,
   "metadata": {},
   "outputs": [
    {
     "data": {
      "text/html": [
       "<video src=\"geoDeaths.mp4\" controls  >\n",
       "      Your browser does not support the <code>video</code> element.\n",
       "    </video>"
      ],
      "text/plain": [
       "<IPython.core.display.Video object>"
      ]
     },
     "execution_count": 26,
     "metadata": {},
     "output_type": "execute_result"
    }
   ],
   "source": [
    "Video('geoDeaths.mp4')"
   ]
  },
  {
   "cell_type": "code",
   "execution_count": 27,
   "metadata": {},
   "outputs": [
    {
     "data": {
      "text/html": [
       "<video src=\"geoStringency.mp4\" controls  >\n",
       "      Your browser does not support the <code>video</code> element.\n",
       "    </video>"
      ],
      "text/plain": [
       "<IPython.core.display.Video object>"
      ]
     },
     "execution_count": 27,
     "metadata": {},
     "output_type": "execute_result"
    }
   ],
   "source": [
    "Video('geoStringency.mp4')"
   ]
  },
  {
   "cell_type": "code",
   "execution_count": 28,
   "metadata": {},
   "outputs": [
    {
     "data": {
      "text/html": [
       "<video src=\"geoSeries.mp4\" controls  >\n",
       "      Your browser does not support the <code>video</code> element.\n",
       "    </video>"
      ],
      "text/plain": [
       "<IPython.core.display.Video object>"
      ]
     },
     "execution_count": 28,
     "metadata": {},
     "output_type": "execute_result"
    }
   ],
   "source": [
    "Video('geoSeries.mp4')"
   ]
  },
  {
   "cell_type": "code",
   "execution_count": 29,
   "metadata": {},
   "outputs": [],
   "source": [
    "# plots = []\n",
    "# for i in [US_cases_gdf,US_Deaths_gdf,US_Stringency_gdf,US_series_gdf]:\n",
    "#     plots.append(i.plot_animated(filename='geoCases.mp4',basemap_format={'source':cx.providers.Stamen.Terrain},steps_per_period=1,period_length=5,period_fmt='%Y-%m-%d',cmap=\"Reds\",enable_progress_bar=True,dpi=144, fixed_max=True))\n",
    "# figs = plt.Figure()\n",
    "# figs.set_dpi(144)\n",
    "# gs = figs.add_gridspec(len(plots),1,hspace=0.5)\n",
    "# f1_ax = []\n",
    "# name = ['Cases','Deaths','Stringency','Series']\n",
    "# for i in range(len(plots)):\n",
    "#     f1_ax.append(figs.add_subplot(gs[i,0]))\n",
    "#     f1_ax[i].set_xlim(-1.5e7,-.4e7)\n",
    "#     f1_ax[i].set_ylim(0,.8e7)\n",
    "#     f1_ax[i].set_title(name[i])\n",
    "#     plots[i].ax = f1_ax[i]\n",
    "# pandas_alive.animate_multiple_plots(filename='US_geo.mp4',plots=plots, custom_fig=figs, enable_progress_bar=True)"
   ]
  },
  {
   "cell_type": "markdown",
   "metadata": {},
   "source": [
    "## Conclusion"
   ]
  }
 ],
 "metadata": {
  "interpreter": {
   "hash": "732bc44b82189d57c8839345e0a3231a985ed165edb86d3603b98808342e660d"
  },
  "kernelspec": {
   "display_name": "Python 3.7.11 64-bit ('server': conda)",
   "language": "python",
   "name": "python3"
  },
  "language_info": {
   "codemirror_mode": {
    "name": "ipython",
    "version": 3
   },
   "file_extension": ".py",
   "mimetype": "text/x-python",
   "name": "python",
   "nbconvert_exporter": "python",
   "pygments_lexer": "ipython3",
   "version": "3.7.11"
  },
  "orig_nbformat": 4
 },
 "nbformat": 4,
 "nbformat_minor": 2
}
